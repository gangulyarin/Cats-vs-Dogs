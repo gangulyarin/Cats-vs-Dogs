{
 "cells": [
  {
   "cell_type": "code",
   "execution_count": 1,
   "metadata": {},
   "outputs": [],
   "source": [
    "import os\n",
    "import cv2\n",
    "import numpy as np"
   ]
  },
  {
   "cell_type": "code",
   "execution_count": 2,
   "metadata": {},
   "outputs": [],
   "source": [
    "import tensorflow as tf\n",
    "import numpy as np\n",
    "\n",
    "def load(imagePaths):\n",
    "    data = []\n",
    "\n",
    "    for (i,imagePath) in enumerate(imagePaths):\n",
    "        #label = imagePath.split(os.path.sep)[-2]\n",
    "        imageFileName = imagePath.split(os.path.sep)[-1]\n",
    "        label = imageFileName.split('.')[0]\n",
    "        data.append([imageFileName,label])\n",
    "\n",
    "    return data"
   ]
  },
  {
   "cell_type": "code",
   "execution_count": 3,
   "metadata": {},
   "outputs": [],
   "source": [
    "from imutils import paths\n",
    "\n",
    "imagePaths = list(paths.list_images(\"train/train\"))"
   ]
  },
  {
   "cell_type": "code",
   "execution_count": 4,
   "metadata": {},
   "outputs": [
    {
     "data": {
      "text/html": [
       "<div>\n",
       "<style scoped>\n",
       "    .dataframe tbody tr th:only-of-type {\n",
       "        vertical-align: middle;\n",
       "    }\n",
       "\n",
       "    .dataframe tbody tr th {\n",
       "        vertical-align: top;\n",
       "    }\n",
       "\n",
       "    .dataframe thead th {\n",
       "        text-align: right;\n",
       "    }\n",
       "</style>\n",
       "<table border=\"1\" class=\"dataframe\">\n",
       "  <thead>\n",
       "    <tr style=\"text-align: right;\">\n",
       "      <th></th>\n",
       "      <th>Filename</th>\n",
       "      <th>Label</th>\n",
       "    </tr>\n",
       "  </thead>\n",
       "  <tbody>\n",
       "    <tr>\n",
       "      <th>0</th>\n",
       "      <td>cat.11863.jpg</td>\n",
       "      <td>cat</td>\n",
       "    </tr>\n",
       "    <tr>\n",
       "      <th>1</th>\n",
       "      <td>dog.10585.jpg</td>\n",
       "      <td>dog</td>\n",
       "    </tr>\n",
       "    <tr>\n",
       "      <th>2</th>\n",
       "      <td>cat.2132.jpg</td>\n",
       "      <td>cat</td>\n",
       "    </tr>\n",
       "    <tr>\n",
       "      <th>3</th>\n",
       "      <td>cat.3700.jpg</td>\n",
       "      <td>cat</td>\n",
       "    </tr>\n",
       "    <tr>\n",
       "      <th>4</th>\n",
       "      <td>cat.4322.jpg</td>\n",
       "      <td>cat</td>\n",
       "    </tr>\n",
       "  </tbody>\n",
       "</table>\n",
       "</div>"
      ],
      "text/plain": [
       "        Filename Label\n",
       "0  cat.11863.jpg   cat\n",
       "1  dog.10585.jpg   dog\n",
       "2   cat.2132.jpg   cat\n",
       "3   cat.3700.jpg   cat\n",
       "4   cat.4322.jpg   cat"
      ]
     },
     "execution_count": 4,
     "metadata": {},
     "output_type": "execute_result"
    }
   ],
   "source": [
    "import pandas as pd\n",
    "\n",
    "df = pd.DataFrame(load(imagePaths),columns=['Filename','Label'])\n",
    "df.head()"
   ]
  },
  {
   "cell_type": "code",
   "execution_count": 5,
   "metadata": {},
   "outputs": [],
   "source": [
    "import h5py"
   ]
  },
  {
   "cell_type": "code",
   "execution_count": 6,
   "metadata": {},
   "outputs": [],
   "source": [
    "db = h5py.File(\"features.hdf5\",\"w\")\n",
    "data = db.create_dataset(\"images\",(len(imagePaths),224*224*3),dtype=\"float\")\n",
    "labels = db.create_dataset(\"labels\",(len(imagePaths),),dtype=\"int\")\n",
    "bufsize = 1000\n",
    "idx = 0\n",
    "buffer = {\"data\":[],\"labels\":[]}\n",
    "\n",
    "def add(rows,label):\n",
    "    data = buffer[\"data\"].extend(rows)\n",
    "    labels = buffer[\"labels\"].extend(label)\n",
    "    if len(buffer)>bufsize:\n",
    "        flush()\n",
    "        \n",
    "def flush():\n",
    "    i = idx + len(buffer)\n",
    "    data[idx:i] = buffer[\"data\"]\n",
    "    labels[idx:i]=buffer[\"labels\"]\n",
    "    idx = i\n",
    "    buffer = {\"data\":[],\"labels\":[]}\n",
    "\n",
    "def close():\n",
    "    if len(buffer)>0:\n",
    "        flush()\n",
    "    db.close()\n"
   ]
  },
  {
   "cell_type": "code",
   "execution_count": null,
   "metadata": {},
   "outputs": [],
   "source": [
    "import imutils\n",
    "\n",
    "for fileName in imagePaths:\n",
    "    label = fileName.split('.')[0]\n",
    "    image = cv2.imread(fileName)\n",
    "    dH=0\n",
    "    dW=0\n",
    "    (w,h) = image.shape[:2]\n",
    "    if w<h:\n",
    "        image = imutils.resize(image,width=224,inter=cv2.INTER_AREA)\n",
    "        dH = int((image.shape[0]-224)/2.0)\n",
    "    else:\n",
    "        image = imutils.resize(image,height=32,inter=cv2.INTER_AREA)\n",
    "        dW = int((image.shape[1]-224)/2.0)\n",
    "    (h, w) = image.shape[:2]\n",
    "    image = image[dH:h - dH, dW:w - dW]\n",
    "    image = cv2.resize(image,(224,224),interpolation=cv2.INTER_AREA)\n",
    "    image = tf.keras.preprocessing.image.img_to_array(image)\n",
    "    add(image,label)\n",
    "close()"
   ]
  },
  {
   "cell_type": "code",
   "execution_count": null,
   "metadata": {},
   "outputs": [],
   "source": []
  }
 ],
 "metadata": {
  "kernelspec": {
   "display_name": "Python 3",
   "language": "python",
   "name": "python3"
  },
  "language_info": {
   "codemirror_mode": {
    "name": "ipython",
    "version": 3
   },
   "file_extension": ".py",
   "mimetype": "text/x-python",
   "name": "python",
   "nbconvert_exporter": "python",
   "pygments_lexer": "ipython3",
   "version": "3.8.10"
  }
 },
 "nbformat": 4,
 "nbformat_minor": 4
}
